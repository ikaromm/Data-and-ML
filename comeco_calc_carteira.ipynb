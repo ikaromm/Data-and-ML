{
 "cells": [
  {
   "cell_type": "code",
   "execution_count": null,
   "metadata": {},
   "outputs": [],
   "source": [
    "import pandas as pd\n",
    "import numpy as np\n",
    "from pandas_datareader import data\n",
    "import matplotlib.pyplot as plt\n",
    "import seaborn as sns\n",
    "from scipy import stats\n",
    "import plotly.express as px\n",
    "import math\n",
    "\n",
    "\n",
    "import yfinance as yf\n",
    "yf.pdr_override()\n",
    "dataset = pd.read_csv('db/acoes1.csv')\n",
    "dataset"
   ]
  },
  {
   "cell_type": "code",
   "execution_count": null,
   "metadata": {},
   "outputs": [],
   "source": [
    "dataset.describe() # estatisticas descritivas sobre a tabela"
   ]
  },
  {
   "cell_type": "code",
   "execution_count": null,
   "metadata": {},
   "outputs": [],
   "source": [
    "# dataset['VALE3.SA'][dataset['Date'] == '2021-05-05'], dataset['VALE3.SA'][dataset['Date'] == '2021-12-30']\n",
    "# np.log(77.96/110.71)*100 \n",
    "#calculo variancia anual"
   ]
  },
  {
   "cell_type": "code",
   "execution_count": null,
   "metadata": {},
   "outputs": [],
   "source": [
    "math.sqrt(dataset['VALE3.SA'].tail(1200).var()) #variancia dos ultimos x dias"
   ]
  },
  {
   "cell_type": "code",
   "execution_count": null,
   "metadata": {},
   "outputs": [],
   "source": [
    "dataset['VALE3.SA'].tail(300).std() # desvio padrão"
   ]
  },
  {
   "cell_type": "code",
   "execution_count": null,
   "metadata": {},
   "outputs": [],
   "source": [
    "stats.variation(dataset['VALE3.SA'].tail(300))*100 # coeficiente de variação\n",
    "#O coeficiente de varição é usado para expressar a variabilidade dos dados estatísticos excluindo a influência da ordem de grandeza da variável"
   ]
  },
  {
   "cell_type": "code",
   "execution_count": null,
   "metadata": {},
   "outputs": [],
   "source": [
    "dataset.drop(labels= ['Date'], axis=1, inplace=True)\n",
    "dataset"
   ]
  },
  {
   "cell_type": "code",
   "execution_count": null,
   "metadata": {},
   "outputs": [],
   "source": [
    "taxas_retorno = (dataset/ dataset.shift(1) - 1)\n",
    "taxas_retorno"
   ]
  },
  {
   "cell_type": "code",
   "execution_count": null,
   "metadata": {},
   "outputs": [],
   "source": [
    "taxas_retorno.std() * 100 # desvio padrao\n"
   ]
  },
  {
   "cell_type": "code",
   "execution_count": null,
   "metadata": {},
   "outputs": [],
   "source": [
    "taxas_retorno.cov() #covariancia\n",
    "#é uma medida estatística onde é possível comparar duas variáveis, permitindo entender como elas se relacionam entre si"
   ]
  },
  {
   "cell_type": "code",
   "execution_count": null,
   "metadata": {},
   "outputs": [],
   "source": [
    "taxas_retorno.corr() #correlação \n",
    "#Correlação: resume o grau de relacionamento entre duas variáveis"
   ]
  },
  {
   "cell_type": "code",
   "execution_count": null,
   "metadata": {},
   "outputs": [],
   "source": [
    "plt.figure(figsize=(15,15))\n",
    "sns.heatmap(taxas_retorno.corr(), annot=True)\n",
    "#heat map da correlação"
   ]
  },
  {
   "cell_type": "code",
   "execution_count": null,
   "metadata": {},
   "outputs": [],
   "source": [
    "taxas_retorno.cov()*246 #covariancia anual"
   ]
  },
  {
   "cell_type": "code",
   "execution_count": null,
   "metadata": {},
   "outputs": [],
   "source": [
    "len(pesos)"
   ]
  },
  {
   "cell_type": "code",
   "execution_count": null,
   "metadata": {},
   "outputs": [],
   "source": [
    "pesos = np.array([0.03, 0.034, 0.0255, 0.0385, 0.0305, 0.0235, 0.0195,0.0195,0.015,0.02,0.0195,0.0195,0.02,0.02,0.0285,0.024,0.02,0.012,0.0185,0.019,0.029,0.017,0])\n",
    "pesos1 = 2*pesos\n",
    "(np.dot(taxas_retorno.cov()*246, pesos1)) #covariancia anual e pesos"
   ]
  },
  {
   "cell_type": "code",
   "execution_count": null,
   "metadata": {},
   "outputs": [],
   "source": [
    "variancia_carteira = np.dot(pesos1, (np.dot(taxas_retorno.cov()*246, pesos1))) #variancia portifolio CARTEIRA\n",
    "variancia_carteira"
   ]
  },
  {
   "cell_type": "code",
   "execution_count": null,
   "metadata": {},
   "outputs": [],
   "source": [
    "math.sqrt(np.dot(pesos1, (np.dot(taxas_retorno.cov()*246, pesos1))))*100 ## volatilidade do portifolio CARTEIRA"
   ]
  },
  {
   "cell_type": "code",
   "execution_count": null,
   "metadata": {},
   "outputs": [],
   "source": [
    "pesos = np.array([0,0,0,0,0,0,0,0,0,0,00,0,0,0,0,0,0,0,0,0,0,0,0.5])\n",
    "pesos1 = 2*pesos\n",
    "(np.dot(taxas_retorno.cov()*246, pesos1)) #covariancia anual e pesos\n",
    "variancia_ibov = np.dot(pesos1, (np.dot(taxas_retorno.cov()*246, pesos1))) \n",
    "math.sqrt(np.dot(pesos1, (np.dot(taxas_retorno.cov()*246, pesos1))))*100 ## volatilidade do portifolio IBOV"
   ]
  },
  {
   "cell_type": "code",
   "execution_count": null,
   "metadata": {},
   "outputs": [],
   "source": [
    "taxas_retorno.std()*math.sqrt(246) #desvio padrão anual"
   ]
  },
  {
   "cell_type": "code",
   "execution_count": null,
   "metadata": {},
   "outputs": [],
   "source": [
    "pesos = np.array([0,0,0,0,0,0,0,0,0,0,00,0,0,0,0,0,0,0,0,0,0,0,0.5])\n",
    "pesos1 = 2*pesos\n",
    "taxas_retorno.var() * 246 #variancia anual\n",
    "variancia_pesos = (taxas_retorno.var() * 246) * pesos1\n",
    "sub = 0\n",
    "for i in variancia_pesos[0:len(variancia_pesos)]:\n",
    "    sub = sub - i\n",
    "sub    \n",
    "risco_nao_sistematico_ibov = variancia_ibov - sub\n",
    "risco_nao_sistematico_ibov"
   ]
  },
  {
   "cell_type": "code",
   "execution_count": null,
   "metadata": {},
   "outputs": [],
   "source": [
    "pesos = np.array([0.038, 0.024, 0.0195, 0.0285, 0.0285, 0.0195, 0.0195,0.0195,0.015,0.02,0.0195,0.0195,0.004,0.02,0.02,0.0285,0.024,0.02,0.012,0.0185,0.019,0.029,0])\n",
    "pesos1 = 2*pesos\n",
    "taxas_retorno.var() * 246 #variancia anual\n",
    "variancia_pesos = (taxas_retorno.var() * 246) * pesos1\n",
    "variancia_pesos\n"
   ]
  },
  {
   "cell_type": "code",
   "execution_count": null,
   "metadata": {},
   "outputs": [],
   "source": [
    "sub = 0\n",
    "for i in variancia_pesos[0:len(variancia_pesos)]:\n",
    "    sub = sub - i\n",
    "sub    "
   ]
  },
  {
   "cell_type": "code",
   "execution_count": null,
   "metadata": {},
   "outputs": [],
   "source": [
    "#risco n sistematic  \n",
    "risto_nao_sistematico_carteira = variancia_carteira - sub\n",
    "risto_nao_sistematico_carteira"
   ]
  },
  {
   "cell_type": "code",
   "execution_count": null,
   "metadata": {},
   "outputs": [],
   "source": []
  }
 ],
 "metadata": {
  "kernelspec": {
   "display_name": "Python 3 (ipykernel)",
   "language": "python",
   "name": "python3"
  },
  "language_info": {
   "codemirror_mode": {
    "name": "ipython",
    "version": 3
   },
   "file_extension": ".py",
   "mimetype": "text/x-python",
   "name": "python",
   "nbconvert_exporter": "python",
   "pygments_lexer": "ipython3",
   "version": "3.11.5"
  }
 },
 "nbformat": 4,
 "nbformat_minor": 2
}
