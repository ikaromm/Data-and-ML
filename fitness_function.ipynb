{
 "cells": [
  {
   "cell_type": "code",
   "execution_count": 2,
   "metadata": {},
   "outputs": [
    {
     "data": {
      "text/html": [
       "<div>\n",
       "<style scoped>\n",
       "    .dataframe tbody tr th:only-of-type {\n",
       "        vertical-align: middle;\n",
       "    }\n",
       "\n",
       "    .dataframe tbody tr th {\n",
       "        vertical-align: top;\n",
       "    }\n",
       "\n",
       "    .dataframe thead th {\n",
       "        text-align: right;\n",
       "    }\n",
       "</style>\n",
       "<table border=\"1\" class=\"dataframe\">\n",
       "  <thead>\n",
       "    <tr style=\"text-align: right;\">\n",
       "      <th></th>\n",
       "      <th>Date</th>\n",
       "      <th>VALE3.SA</th>\n",
       "      <th>RECV3.SA</th>\n",
       "      <th>KEPL3.SA</th>\n",
       "      <th>CURY3.SA</th>\n",
       "      <th>VULC3.SA</th>\n",
       "      <th>LEVE3.SA</th>\n",
       "      <th>GGBR4.SA</th>\n",
       "      <th>LREN3.SA</th>\n",
       "      <th>ALSO3.SA</th>\n",
       "      <th>...</th>\n",
       "      <th>CMIG4.SA</th>\n",
       "      <th>ITSA4.SA</th>\n",
       "      <th>BBAS3.SA</th>\n",
       "      <th>TASA4.SA</th>\n",
       "      <th>SLCE3.SA</th>\n",
       "      <th>B3SA3.SA</th>\n",
       "      <th>PETR4.SA</th>\n",
       "      <th>SUZB3.SA</th>\n",
       "      <th>KLBN4.SA</th>\n",
       "      <th>BOVA11.SA</th>\n",
       "    </tr>\n",
       "  </thead>\n",
       "  <tbody>\n",
       "    <tr>\n",
       "      <th>0</th>\n",
       "      <td>2021-05-05</td>\n",
       "      <td>110.709999</td>\n",
       "      <td>15.610000</td>\n",
       "      <td>8.475000</td>\n",
       "      <td>9.85</td>\n",
       "      <td>7.810000</td>\n",
       "      <td>24.430000</td>\n",
       "      <td>32.809525</td>\n",
       "      <td>37.627274</td>\n",
       "      <td>26.660000</td>\n",
       "      <td>...</td>\n",
       "      <td>9.307692</td>\n",
       "      <td>8.839826</td>\n",
       "      <td>29.260000</td>\n",
       "      <td>25.250000</td>\n",
       "      <td>43.818180</td>\n",
       "      <td>17.166666</td>\n",
       "      <td>23.830000</td>\n",
       "      <td>67.669998</td>\n",
       "      <td>5.52</td>\n",
       "      <td>115.150002</td>\n",
       "    </tr>\n",
       "    <tr>\n",
       "      <th>1</th>\n",
       "      <td>2021-05-06</td>\n",
       "      <td>115.050003</td>\n",
       "      <td>16.000000</td>\n",
       "      <td>8.896666</td>\n",
       "      <td>9.92</td>\n",
       "      <td>8.020000</td>\n",
       "      <td>24.280001</td>\n",
       "      <td>34.304760</td>\n",
       "      <td>38.018181</td>\n",
       "      <td>27.110001</td>\n",
       "      <td>...</td>\n",
       "      <td>9.223076</td>\n",
       "      <td>8.831168</td>\n",
       "      <td>29.209999</td>\n",
       "      <td>26.209999</td>\n",
       "      <td>43.438015</td>\n",
       "      <td>16.933332</td>\n",
       "      <td>23.500000</td>\n",
       "      <td>67.459999</td>\n",
       "      <td>5.52</td>\n",
       "      <td>115.430000</td>\n",
       "    </tr>\n",
       "    <tr>\n",
       "      <th>2</th>\n",
       "      <td>2021-05-07</td>\n",
       "      <td>115.449997</td>\n",
       "      <td>16.600000</td>\n",
       "      <td>8.858333</td>\n",
       "      <td>10.09</td>\n",
       "      <td>8.380000</td>\n",
       "      <td>24.469999</td>\n",
       "      <td>34.638096</td>\n",
       "      <td>39.599998</td>\n",
       "      <td>28.020000</td>\n",
       "      <td>...</td>\n",
       "      <td>9.238461</td>\n",
       "      <td>8.952380</td>\n",
       "      <td>29.940001</td>\n",
       "      <td>25.850000</td>\n",
       "      <td>43.214874</td>\n",
       "      <td>17.780001</td>\n",
       "      <td>24.379999</td>\n",
       "      <td>67.419998</td>\n",
       "      <td>5.51</td>\n",
       "      <td>117.459999</td>\n",
       "    </tr>\n",
       "    <tr>\n",
       "      <th>3</th>\n",
       "      <td>2021-05-10</td>\n",
       "      <td>114.690002</td>\n",
       "      <td>15.880000</td>\n",
       "      <td>8.895000</td>\n",
       "      <td>10.25</td>\n",
       "      <td>8.170000</td>\n",
       "      <td>23.870001</td>\n",
       "      <td>34.647617</td>\n",
       "      <td>39.900002</td>\n",
       "      <td>28.309999</td>\n",
       "      <td>...</td>\n",
       "      <td>9.115384</td>\n",
       "      <td>9.047619</td>\n",
       "      <td>30.330000</td>\n",
       "      <td>24.500000</td>\n",
       "      <td>44.363636</td>\n",
       "      <td>17.766666</td>\n",
       "      <td>24.700001</td>\n",
       "      <td>68.470001</td>\n",
       "      <td>5.52</td>\n",
       "      <td>117.139999</td>\n",
       "    </tr>\n",
       "    <tr>\n",
       "      <th>4</th>\n",
       "      <td>2021-05-11</td>\n",
       "      <td>118.720001</td>\n",
       "      <td>16.150000</td>\n",
       "      <td>8.913333</td>\n",
       "      <td>10.20</td>\n",
       "      <td>8.370000</td>\n",
       "      <td>24.469999</td>\n",
       "      <td>35.857143</td>\n",
       "      <td>40.463634</td>\n",
       "      <td>28.510000</td>\n",
       "      <td>...</td>\n",
       "      <td>9.238461</td>\n",
       "      <td>9.047619</td>\n",
       "      <td>30.549999</td>\n",
       "      <td>23.969999</td>\n",
       "      <td>46.685951</td>\n",
       "      <td>17.616667</td>\n",
       "      <td>25.150000</td>\n",
       "      <td>68.320000</td>\n",
       "      <td>5.57</td>\n",
       "      <td>118.129997</td>\n",
       "    </tr>\n",
       "    <tr>\n",
       "      <th>...</th>\n",
       "      <td>...</td>\n",
       "      <td>...</td>\n",
       "      <td>...</td>\n",
       "      <td>...</td>\n",
       "      <td>...</td>\n",
       "      <td>...</td>\n",
       "      <td>...</td>\n",
       "      <td>...</td>\n",
       "      <td>...</td>\n",
       "      <td>...</td>\n",
       "      <td>...</td>\n",
       "      <td>...</td>\n",
       "      <td>...</td>\n",
       "      <td>...</td>\n",
       "      <td>...</td>\n",
       "      <td>...</td>\n",
       "      <td>...</td>\n",
       "      <td>...</td>\n",
       "      <td>...</td>\n",
       "      <td>...</td>\n",
       "      <td>...</td>\n",
       "    </tr>\n",
       "    <tr>\n",
       "      <th>612</th>\n",
       "      <td>2023-10-16</td>\n",
       "      <td>67.300003</td>\n",
       "      <td>22.190001</td>\n",
       "      <td>10.760000</td>\n",
       "      <td>15.10</td>\n",
       "      <td>18.860001</td>\n",
       "      <td>40.130001</td>\n",
       "      <td>22.540001</td>\n",
       "      <td>12.960000</td>\n",
       "      <td>23.530001</td>\n",
       "      <td>...</td>\n",
       "      <td>12.230000</td>\n",
       "      <td>9.030000</td>\n",
       "      <td>49.810001</td>\n",
       "      <td>15.530000</td>\n",
       "      <td>37.740002</td>\n",
       "      <td>11.740000</td>\n",
       "      <td>36.680000</td>\n",
       "      <td>57.369999</td>\n",
       "      <td>4.70</td>\n",
       "      <td>112.940002</td>\n",
       "    </tr>\n",
       "    <tr>\n",
       "      <th>613</th>\n",
       "      <td>2023-10-17</td>\n",
       "      <td>67.849998</td>\n",
       "      <td>21.660000</td>\n",
       "      <td>10.600000</td>\n",
       "      <td>14.65</td>\n",
       "      <td>18.590000</td>\n",
       "      <td>39.970001</td>\n",
       "      <td>22.330000</td>\n",
       "      <td>12.810000</td>\n",
       "      <td>23.230000</td>\n",
       "      <td>...</td>\n",
       "      <td>12.010000</td>\n",
       "      <td>8.840000</td>\n",
       "      <td>49.360001</td>\n",
       "      <td>15.790000</td>\n",
       "      <td>37.060001</td>\n",
       "      <td>11.270000</td>\n",
       "      <td>37.669998</td>\n",
       "      <td>57.470001</td>\n",
       "      <td>4.75</td>\n",
       "      <td>112.339996</td>\n",
       "    </tr>\n",
       "    <tr>\n",
       "      <th>614</th>\n",
       "      <td>2023-10-18</td>\n",
       "      <td>65.360001</td>\n",
       "      <td>21.790001</td>\n",
       "      <td>10.440000</td>\n",
       "      <td>14.29</td>\n",
       "      <td>18.540001</td>\n",
       "      <td>38.900002</td>\n",
       "      <td>21.660000</td>\n",
       "      <td>12.240000</td>\n",
       "      <td>21.990000</td>\n",
       "      <td>...</td>\n",
       "      <td>11.680000</td>\n",
       "      <td>8.750000</td>\n",
       "      <td>49.119999</td>\n",
       "      <td>15.480000</td>\n",
       "      <td>36.310001</td>\n",
       "      <td>11.130000</td>\n",
       "      <td>38.520000</td>\n",
       "      <td>56.080002</td>\n",
       "      <td>4.66</td>\n",
       "      <td>110.370003</td>\n",
       "    </tr>\n",
       "    <tr>\n",
       "      <th>615</th>\n",
       "      <td>2023-10-19</td>\n",
       "      <td>64.419998</td>\n",
       "      <td>21.799999</td>\n",
       "      <td>10.420000</td>\n",
       "      <td>14.47</td>\n",
       "      <td>18.580000</td>\n",
       "      <td>38.759998</td>\n",
       "      <td>21.629999</td>\n",
       "      <td>12.340000</td>\n",
       "      <td>21.959999</td>\n",
       "      <td>...</td>\n",
       "      <td>11.780000</td>\n",
       "      <td>8.800000</td>\n",
       "      <td>49.500000</td>\n",
       "      <td>15.470000</td>\n",
       "      <td>36.689999</td>\n",
       "      <td>11.000000</td>\n",
       "      <td>38.340000</td>\n",
       "      <td>55.980000</td>\n",
       "      <td>4.65</td>\n",
       "      <td>110.599998</td>\n",
       "    </tr>\n",
       "    <tr>\n",
       "      <th>616</th>\n",
       "      <td>2023-10-20</td>\n",
       "      <td>62.680000</td>\n",
       "      <td>21.629999</td>\n",
       "      <td>10.460000</td>\n",
       "      <td>14.21</td>\n",
       "      <td>18.290001</td>\n",
       "      <td>38.849998</td>\n",
       "      <td>21.450001</td>\n",
       "      <td>12.220000</td>\n",
       "      <td>22.020000</td>\n",
       "      <td>...</td>\n",
       "      <td>11.810000</td>\n",
       "      <td>8.740000</td>\n",
       "      <td>49.340000</td>\n",
       "      <td>15.340000</td>\n",
       "      <td>36.270000</td>\n",
       "      <td>11.150000</td>\n",
       "      <td>37.849998</td>\n",
       "      <td>54.900002</td>\n",
       "      <td>4.55</td>\n",
       "      <td>109.500000</td>\n",
       "    </tr>\n",
       "  </tbody>\n",
       "</table>\n",
       "<p>617 rows × 26 columns</p>\n",
       "</div>"
      ],
      "text/plain": [
       "           Date    VALE3.SA   RECV3.SA   KEPL3.SA  CURY3.SA   VULC3.SA  \\\n",
       "0    2021-05-05  110.709999  15.610000   8.475000      9.85   7.810000   \n",
       "1    2021-05-06  115.050003  16.000000   8.896666      9.92   8.020000   \n",
       "2    2021-05-07  115.449997  16.600000   8.858333     10.09   8.380000   \n",
       "3    2021-05-10  114.690002  15.880000   8.895000     10.25   8.170000   \n",
       "4    2021-05-11  118.720001  16.150000   8.913333     10.20   8.370000   \n",
       "..          ...         ...        ...        ...       ...        ...   \n",
       "612  2023-10-16   67.300003  22.190001  10.760000     15.10  18.860001   \n",
       "613  2023-10-17   67.849998  21.660000  10.600000     14.65  18.590000   \n",
       "614  2023-10-18   65.360001  21.790001  10.440000     14.29  18.540001   \n",
       "615  2023-10-19   64.419998  21.799999  10.420000     14.47  18.580000   \n",
       "616  2023-10-20   62.680000  21.629999  10.460000     14.21  18.290001   \n",
       "\n",
       "      LEVE3.SA   GGBR4.SA   LREN3.SA   ALSO3.SA  ...   CMIG4.SA  ITSA4.SA  \\\n",
       "0    24.430000  32.809525  37.627274  26.660000  ...   9.307692  8.839826   \n",
       "1    24.280001  34.304760  38.018181  27.110001  ...   9.223076  8.831168   \n",
       "2    24.469999  34.638096  39.599998  28.020000  ...   9.238461  8.952380   \n",
       "3    23.870001  34.647617  39.900002  28.309999  ...   9.115384  9.047619   \n",
       "4    24.469999  35.857143  40.463634  28.510000  ...   9.238461  9.047619   \n",
       "..         ...        ...        ...        ...  ...        ...       ...   \n",
       "612  40.130001  22.540001  12.960000  23.530001  ...  12.230000  9.030000   \n",
       "613  39.970001  22.330000  12.810000  23.230000  ...  12.010000  8.840000   \n",
       "614  38.900002  21.660000  12.240000  21.990000  ...  11.680000  8.750000   \n",
       "615  38.759998  21.629999  12.340000  21.959999  ...  11.780000  8.800000   \n",
       "616  38.849998  21.450001  12.220000  22.020000  ...  11.810000  8.740000   \n",
       "\n",
       "      BBAS3.SA   TASA4.SA   SLCE3.SA   B3SA3.SA   PETR4.SA   SUZB3.SA  \\\n",
       "0    29.260000  25.250000  43.818180  17.166666  23.830000  67.669998   \n",
       "1    29.209999  26.209999  43.438015  16.933332  23.500000  67.459999   \n",
       "2    29.940001  25.850000  43.214874  17.780001  24.379999  67.419998   \n",
       "3    30.330000  24.500000  44.363636  17.766666  24.700001  68.470001   \n",
       "4    30.549999  23.969999  46.685951  17.616667  25.150000  68.320000   \n",
       "..         ...        ...        ...        ...        ...        ...   \n",
       "612  49.810001  15.530000  37.740002  11.740000  36.680000  57.369999   \n",
       "613  49.360001  15.790000  37.060001  11.270000  37.669998  57.470001   \n",
       "614  49.119999  15.480000  36.310001  11.130000  38.520000  56.080002   \n",
       "615  49.500000  15.470000  36.689999  11.000000  38.340000  55.980000   \n",
       "616  49.340000  15.340000  36.270000  11.150000  37.849998  54.900002   \n",
       "\n",
       "     KLBN4.SA   BOVA11.SA  \n",
       "0        5.52  115.150002  \n",
       "1        5.52  115.430000  \n",
       "2        5.51  117.459999  \n",
       "3        5.52  117.139999  \n",
       "4        5.57  118.129997  \n",
       "..        ...         ...  \n",
       "612      4.70  112.940002  \n",
       "613      4.75  112.339996  \n",
       "614      4.66  110.370003  \n",
       "615      4.65  110.599998  \n",
       "616      4.55  109.500000  \n",
       "\n",
       "[617 rows x 26 columns]"
      ]
     },
     "execution_count": 2,
     "metadata": {},
     "output_type": "execute_result"
    }
   ],
   "source": [
    "import pandas as pd\n",
    "import numpy as np\n",
    "from pandas_datareader import data\n",
    "import matplotlib.pyplot as plt\n",
    "import seaborn as sns\n",
    "from scipy import stats\n",
    "import plotly.express as px\n",
    "import math\n",
    "import six\n",
    "import sys\n",
    "sys.modules['sklearn.externals.six'] = six\n",
    "\n",
    "import mlrose\n",
    "\n",
    "import yfinance as yf\n",
    "yf.pdr_override()\n",
    "\n",
    "dataset = pd.read_csv('db/acoes1.csv')\n",
    "dataset\n"
   ]
  },
  {
   "cell_type": "code",
   "execution_count": 3,
   "metadata": {},
   "outputs": [],
   "source": [
    "dinheiro_total = 5000\n",
    "taxa_selic_2020 = 12\n",
    "taxa_selic_2021 = 13.75\n",
    "taxa_selic_2022 = 13.75\n",
    "taxa_selic_2023 = 13.25\n",
    "valor_2020 = dinheiro_total + (dinheiro_total * taxa_selic_2020 / 100)\n",
    "valor_2021 = valor_2020 + (dinheiro_total * taxa_selic_2021 / 100)\n",
    "valor_2022 = valor_2021 + (dinheiro_total * taxa_selic_2022 / 100)\n",
    "valor_2023 = valor_2022 + (dinheiro_total * taxa_selic_2023 / 100)\n",
    "valor_2023\n",
    "taxa_selic_historico = np.array([taxa_selic_2020, taxa_selic_2021, taxa_selic_2022, taxa_selic_2023])\n",
    "dataset_original = dataset.copy()\n",
    "dinheiro_total = 5000\n",
    "sem_risco = taxa_selic_historico.mean() / 100\n",
    "\n",
    "# (dataset['taxa de retorno'].mean() - taxa_selic_historico.mean()/100)/ dataset['taxa de retorno'].std() * math.sqrt(246) #sharp ratio validando historico da selic\n"
   ]
  },
  {
   "cell_type": "code",
   "execution_count": 4,
   "metadata": {},
   "outputs": [],
   "source": [
    "def fitness_function(solucao):\n",
    "  dataset = dataset_original.copy()\n",
    "  pesos = solucao / solucao.sum()\n",
    "\n",
    "  for i in dataset.columns[1:]:\n",
    "    dataset[i] = (dataset[i] / dataset[i][0])\n",
    "\n",
    "  for i, acao in enumerate(dataset.columns[1:]):\n",
    "    dataset[acao] = dataset[acao] * pesos[i] * dinheiro_total\n",
    "\n",
    "  dataset.drop(labels = ['Date'], axis = 1, inplace=True)\n",
    "  dataset['soma valor'] = dataset.sum(axis = 1)\n",
    "  dataset['taxa retorno'] = 0.0\n",
    "\n",
    "  for i in range(1, len(dataset)):\n",
    "    dataset['taxa retorno'][i] = ((dataset['soma valor'][i] / dataset['soma valor'][i - 1]) - 1) * 100\n",
    "\n",
    "  sharpe_ratio = (dataset['taxa retorno'].mean() - sem_risco) / dataset['taxa retorno'].std() * np.sqrt(246)\n",
    "\n",
    "  return sharpe_ratio"
   ]
  },
  {
   "cell_type": "code",
   "execution_count": 6,
   "metadata": {},
   "outputs": [],
   "source": [
    "def alocacao_ativos(dataset, dinheiro_total, seed = 0, melhores_pesos = []):\n",
    "    if seed != 0:\n",
    "        np.random.seed(seed)\n",
    "\n",
    "    dataset = dataset.copy()\n",
    "\n",
    "    if len(melhores_pesos) > 0:\n",
    "        pesos = melhores_pesos\n",
    "    else:  \n",
    "        pesos = np.random.random(len(dataset.columns) - 1)\n",
    "    #print(pesos, pesos.sum())\n",
    "        pesos = pesos / pesos.sum()\n",
    "    #print(pesos, pesos.sum())\n",
    "    \n",
    " \n",
    "    colunas = dataset.columns[1:]\n",
    "\n",
    "    for i in colunas:\n",
    "        dataset[i] = dataset[i] / dataset[i][0]\n",
    "\n",
    "    for i, acao in enumerate(dataset.columns[1:]):\n",
    "        dataset[acao] = dataset[acao] * pesos[i] * dinheiro_total\n",
    "\n",
    "    dataset['SOMA VALOR'] = dataset[colunas].sum(axis=1)\n",
    "\n",
    "    datas = dataset['Date']\n",
    "\n",
    "    dataset.drop(columns=['Date'], inplace=True)\n",
    "    dataset['taxa de retorno'] = 0.0\n",
    "\n",
    "    for i in range(1, len(dataset)):\n",
    "        dataset['taxa de retorno'][i] = ((dataset['SOMA VALOR'][i] / dataset['SOMA VALOR'][i-1]) - 1 )*100\n",
    "\n",
    "    acoes_pesos = pd.DataFrame(data= {'Ações': colunas, 'Pesos': pesos*100})\n",
    "\n",
    "    return dataset, datas, acoes_pesos , dataset.loc[len(dataset)-1]['SOMA VALOR']"
   ]
  },
  {
   "cell_type": "code",
   "execution_count": 7,
   "metadata": {},
   "outputs": [
    {
     "data": {
      "text/plain": [
       "array([0.06163703, 0.00165831, 0.05063548, 0.05983769, 0.03983621,\n",
       "       0.01796373, 0.01582741, 0.06077479, 0.01351382, 0.00705933,\n",
       "       0.05476781, 0.07618665, 0.00031551, 0.04092981, 0.06493738,\n",
       "       0.04894759, 0.05767621, 0.02332412, 0.07334028, 0.05710249,\n",
       "       0.04335528, 0.01136096, 0.02983405, 0.05387071, 0.03530735])"
      ]
     },
     "execution_count": 7,
     "metadata": {},
     "output_type": "execute_result"
    }
   ],
   "source": [
    "np.random.seed(10)\n",
    "pesos = np.random.random(len(dataset_original.columns) - 1)\n",
    "pesos = pesos / pesos.sum()\n",
    "pesos"
   ]
  },
  {
   "cell_type": "code",
   "execution_count": 15,
   "metadata": {},
   "outputs": [
    {
     "name": "stdout",
     "output_type": "stream",
     "text": [
      "VALE3.SA 6.163702935377945\n",
      "RECV3.SA 0.1658309709430696\n",
      "KEPL3.SA 5.063548499195886\n",
      "CURY3.SA 5.983769174487785\n",
      "VULC3.SA 3.983621029540306\n",
      "LEVE3.SA 1.7963732152342065\n",
      "GGBR4.SA 1.582740811574609\n",
      "LREN3.SA 6.077479481648798\n",
      "ALSO3.SA 1.3513821635968375\n",
      "DIRR3.SA 0.7059325802936983\n",
      "MILS3.SA 5.476781104123487\n",
      "RANI3.SA 7.618664712023379\n",
      "CAMB3.SA 0.03155100407004678\n",
      "CSUD3.SA 4.092981284590095\n",
      "CLSC4.SA 6.493738045790383\n",
      "CMIG4.SA 4.894759072079119\n",
      "ITSA4.SA 5.767621296686251\n",
      "BBAS3.SA 2.3324118106453207\n",
      "TASA4.SA 7.334027816225093\n",
      "SLCE3.SA 5.710248898596058\n",
      "B3SA3.SA 4.335528087930738\n",
      "PETR4.SA 1.1360955361093648\n",
      "SUZB3.SA 2.983404578515426\n",
      "KLBN4.SA 5.387071353909555\n",
      "BOVA11.SA 3.5307345368125547\n"
     ]
    }
   ],
   "source": [
    "def visualiza_alocacao(solucao):\n",
    "  colunas = dataset_original.columns[1:]\n",
    "  for i in range(len(solucao)):\n",
    "    print(colunas[i], solucao[i] * 100)\n",
    "visualiza_alocacao(pesos)    "
   ]
  },
  {
   "cell_type": "code",
   "execution_count": 9,
   "metadata": {},
   "outputs": [],
   "source": [
    "fitness = mlrose.CustomFitness(fitness_function)"
   ]
  },
  {
   "cell_type": "code",
   "execution_count": 18,
   "metadata": {},
   "outputs": [],
   "source": [
    "problema_maximizacao = mlrose.ContinuousOpt(length=25, fitness_fn=fitness,\n",
    "                                            maximize = True, min_val = 0.1, max_val = 1)"
   ]
  },
  {
   "cell_type": "code",
   "execution_count": 11,
   "metadata": {},
   "outputs": [],
   "source": [
    "problema_minimizacao = mlrose.ContinuousOpt(length=25, fitness_fn=fitness,\n",
    "                                            maximize = False, min_val = 0, max_val = 1)"
   ]
  },
  {
   "cell_type": "code",
   "execution_count": 19,
   "metadata": {},
   "outputs": [
    {
     "data": {
      "text/plain": [
       "(array([0.1, 1. , 0.1, 1. , 1. , 0.1, 0.1, 0.1, 0.1, 0.1, 0.1, 0.1, 0.1,\n",
       "        0.1, 0.1, 0.1, 0.1, 0.1, 0.1, 0.1, 0.1, 1. , 0.1, 0.1, 0.1]),\n",
       " -0.5607391144131273)"
      ]
     },
     "execution_count": 19,
     "metadata": {},
     "output_type": "execute_result"
    }
   ],
   "source": [
    "melhor_solucao, melhor_custo = mlrose.hill_climb(problema_maximizacao, random_state = 1) ## hill climb\n",
    "melhor_solucao, melhor_custo"
   ]
  },
  {
   "cell_type": "code",
   "execution_count": 20,
   "metadata": {},
   "outputs": [
    {
     "data": {
      "text/plain": [
       "(array([0.01639344, 0.16393443, 0.01639344, 0.16393443, 0.16393443,\n",
       "        0.01639344, 0.01639344, 0.01639344, 0.01639344, 0.01639344,\n",
       "        0.01639344, 0.01639344, 0.01639344, 0.01639344, 0.01639344,\n",
       "        0.01639344, 0.01639344, 0.01639344, 0.01639344, 0.01639344,\n",
       "        0.01639344, 0.16393443, 0.01639344, 0.01639344, 0.01639344]),\n",
       " 1.0)"
      ]
     },
     "execution_count": 20,
     "metadata": {},
     "output_type": "execute_result"
    }
   ],
   "source": [
    "melhor_solucao = melhor_solucao / melhor_solucao.sum()\n",
    "melhor_solucao, melhor_solucao.sum()"
   ]
  },
  {
   "cell_type": "code",
   "execution_count": 21,
   "metadata": {},
   "outputs": [
    {
     "name": "stdout",
     "output_type": "stream",
     "text": [
      "VALE3.SA 1.639344262295082\n",
      "RECV3.SA 16.39344262295082\n",
      "KEPL3.SA 1.639344262295082\n",
      "CURY3.SA 16.39344262295082\n",
      "VULC3.SA 16.39344262295082\n",
      "LEVE3.SA 1.639344262295082\n",
      "GGBR4.SA 1.639344262295082\n",
      "LREN3.SA 1.639344262295082\n",
      "ALSO3.SA 1.639344262295082\n",
      "DIRR3.SA 1.639344262295082\n",
      "MILS3.SA 1.639344262295082\n",
      "RANI3.SA 1.639344262295082\n",
      "CAMB3.SA 1.639344262295082\n",
      "CSUD3.SA 1.639344262295082\n",
      "CLSC4.SA 1.639344262295082\n",
      "CMIG4.SA 1.639344262295082\n",
      "ITSA4.SA 1.639344262295082\n",
      "BBAS3.SA 1.639344262295082\n",
      "TASA4.SA 1.639344262295082\n",
      "SLCE3.SA 1.639344262295082\n",
      "B3SA3.SA 1.639344262295082\n",
      "PETR4.SA 16.39344262295082\n",
      "SUZB3.SA 1.639344262295082\n",
      "KLBN4.SA 1.639344262295082\n",
      "BOVA11.SA 1.639344262295082\n"
     ]
    }
   ],
   "source": [
    "visualiza_alocacao(melhor_solucao)"
   ]
  },
  {
   "cell_type": "code",
   "execution_count": 22,
   "metadata": {},
   "outputs": [
    {
     "data": {
      "text/plain": [
       "7259.547587178271"
      ]
     },
     "execution_count": 22,
     "metadata": {},
     "output_type": "execute_result"
    }
   ],
   "source": [
    "_, _, _, soma_valor = alocacao_ativos(pd.read_csv('db/acoes1.csv'), 5000, melhores_pesos=melhor_solucao)\n",
    "soma_valor"
   ]
  },
  {
   "cell_type": "code",
   "execution_count": 56,
   "metadata": {},
   "outputs": [
    {
     "data": {
      "text/plain": [
       "(array([0.        , 0.08983183, 0.        , 0.08983183, 0.12833118,\n",
       "        0.10168175, 0.        , 0.        , 0.01283312, 0.03849935,\n",
       "        0.10266494, 0.02566624, 0.12833118, 0.        , 0.        ,\n",
       "        0.08983183, 0.        , 0.07699871, 0.        , 0.        ,\n",
       "        0.        , 0.10266494, 0.01283312, 0.        , 0.        ]),\n",
       " -0.4644106218719702)"
      ]
     },
     "execution_count": 56,
     "metadata": {},
     "output_type": "execute_result"
    }
   ],
   "source": [
    "## Simulated annealing\n",
    "melhor_solucao, melhor_custo = mlrose.simulated_annealing(problema_maximizacao, random_state = 1) \n",
    "melhor_solucao = melhor_solucao / melhor_solucao.sum()\n",
    "melhor_solucao, melhor_custo"
   ]
  },
  {
   "cell_type": "code",
   "execution_count": 57,
   "metadata": {},
   "outputs": [
    {
     "name": "stdout",
     "output_type": "stream",
     "text": [
      "VALE3.SA 0.0\n",
      "RECV3.SA 8.983182538678806\n",
      "KEPL3.SA 0.0\n",
      "CURY3.SA 8.983182538678806\n",
      "VULC3.SA 12.833117912398292\n",
      "LEVE3.SA 10.16817461321195\n",
      "GGBR4.SA 0.0\n",
      "LREN3.SA 0.0\n",
      "ALSO3.SA 1.2833117912398295\n",
      "DIRR3.SA 3.849935373719488\n",
      "MILS3.SA 10.266494329918634\n",
      "RANI3.SA 2.56662358247966\n",
      "CAMB3.SA 12.833117912398292\n",
      "CSUD3.SA 0.0\n",
      "CLSC4.SA 0.0\n",
      "CMIG4.SA 8.983182538678806\n",
      "ITSA4.SA 0.0\n",
      "BBAS3.SA 7.699870747438976\n",
      "TASA4.SA 0.0\n",
      "SLCE3.SA 0.0\n",
      "B3SA3.SA 0.0\n",
      "PETR4.SA 10.266494329918634\n",
      "SUZB3.SA 1.2833117912398309\n",
      "KLBN4.SA 0.0\n",
      "BOVA11.SA 0.0\n"
     ]
    }
   ],
   "source": [
    "visualiza_alocacao(melhor_solucao)"
   ]
  },
  {
   "cell_type": "code",
   "execution_count": 58,
   "metadata": {},
   "outputs": [
    {
     "data": {
      "text/plain": [
       "7845.953236518406"
      ]
     },
     "execution_count": 58,
     "metadata": {},
     "output_type": "execute_result"
    }
   ],
   "source": [
    "_, _, _, soma_valor = alocacao_ativos(pd.read_csv('db/acoes1.csv'), 5000, melhores_pesos=melhor_solucao)\n",
    "soma_valor"
   ]
  },
  {
   "cell_type": "code",
   "execution_count": 12,
   "metadata": {},
   "outputs": [
    {
     "data": {
      "text/plain": [
       "(array([0.02879424, 0.05579771, 0.0324258 , 0.03998232, 0.07813185,\n",
       "        0.06277506, 0.00758672, 0.00149477, 0.07428612, 0.06539574,\n",
       "        0.06469392, 0.00246649, 0.07454102, 0.01268971, 0.00835557,\n",
       "        0.02242307, 0.010764  , 0.08001379, 0.02257187, 0.01247531,\n",
       "        0.037024  , 0.07519654, 0.04610874, 0.03970603, 0.04429961]),\n",
       " -0.869826683835935)"
      ]
     },
     "execution_count": 12,
     "metadata": {},
     "output_type": "execute_result"
    }
   ],
   "source": [
    "#algoritmo genético \n",
    "problema_maximizacao_ag = mlrose.ContinuousOpt(length = 25, fitness_fn = fitness, \n",
    "                                               maximize = True, min_val = 0, max_val = 1)\n",
    "melhor_solucao, melhor_custo = mlrose.genetic_alg(problema_maximizacao_ag, random_state = 1, pop_size=1200, mutation_prob= 0.1, max_attempts = 20)\n",
    "melhor_solucao = melhor_solucao / melhor_solucao.sum()\n",
    "melhor_solucao, melhor_custo\n",
    "# (array([0.03344146, 0.10065911, 0.05203524, 0.05009186, 0.08986174,\n",
    "#         0.05894185, 0.00878224, 0.02098791, 0.00120743, 0.01101616,\n",
    "#         0.03366619, 0.01289593, 0.06706893, 0.09493909, 0.00703658,\n",
    "#         0.02083494, 0.02857037, 0.0379588 , 0.01738156, 0.03688446,\n",
    "#         0.0131437 , 0.10263992, 0.07054015, 0.01705707, 0.01235731]),\n",
    "#  -0.9230971670710331)"
   ]
  },
  {
   "cell_type": "code",
   "execution_count": 16,
   "metadata": {},
   "outputs": [
    {
     "name": "stdout",
     "output_type": "stream",
     "text": [
      "VALE3.SA 2.879424224586429\n",
      "RECV3.SA 5.57977128479196\n",
      "KEPL3.SA 3.242579592817606\n",
      "CURY3.SA 3.998231881699896\n",
      "VULC3.SA 7.813184796027955\n",
      "LEVE3.SA 6.2775059337832335\n",
      "GGBR4.SA 0.758672315426725\n",
      "LREN3.SA 0.14947696572860816\n",
      "ALSO3.SA 7.428611786184745\n",
      "DIRR3.SA 6.539574231400465\n",
      "MILS3.SA 6.469391691825817\n",
      "RANI3.SA 0.24664887886964235\n",
      "CAMB3.SA 7.454101587569416\n",
      "CSUD3.SA 1.2689711590959787\n",
      "CLSC4.SA 0.8355572685753349\n",
      "CMIG4.SA 2.2423069768949992\n",
      "ITSA4.SA 1.0764000951455517\n",
      "BBAS3.SA 8.001378573641665\n",
      "TASA4.SA 2.257187086038771\n",
      "SLCE3.SA 1.2475309300075998\n",
      "B3SA3.SA 3.7024001998616054\n",
      "PETR4.SA 7.519654408619086\n",
      "SUZB3.SA 4.6108740989574155\n",
      "KLBN4.SA 3.9706030542993487\n",
      "BOVA11.SA 4.429960978150149\n"
     ]
    }
   ],
   "source": [
    "visualiza_alocacao(melhor_solucao)"
   ]
  },
  {
   "cell_type": "code",
   "execution_count": 17,
   "metadata": {},
   "outputs": [
    {
     "data": {
      "text/plain": [
       "6506.230863731235"
      ]
     },
     "execution_count": 17,
     "metadata": {},
     "output_type": "execute_result"
    }
   ],
   "source": [
    "_, _, _, soma_valor = alocacao_ativos(pd.read_csv('db/acoes1.csv'), 5000, melhores_pesos=melhor_solucao)\n",
    "soma_valor"
   ]
  }
 ],
 "metadata": {
  "kernelspec": {
   "display_name": "Python 3 (ipykernel)",
   "language": "python",
   "name": "python3"
  }
 },
 "nbformat": 4,
 "nbformat_minor": 2
}
