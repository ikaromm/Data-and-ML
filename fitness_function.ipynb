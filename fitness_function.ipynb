{
 "cells": [
  {
   "cell_type": "code",
   "execution_count": null,
   "metadata": {},
   "outputs": [],
   "source": [
    "import pandas as pd\n",
    "import numpy as np\n",
    "from pandas_datareader import data\n",
    "import matplotlib.pyplot as plt\n",
    "import seaborn as sns\n",
    "from scipy import stats\n",
    "import plotly.express as px\n",
    "import math\n",
    "import six\n",
    "import sys\n",
    "sys.modules['sklearn.externals.six'] = six\n",
    "\n",
    "import mlrose\n",
    "\n",
    "import yfinance as yf\n",
    "yf.pdr_override()\n",
    "\n",
    "dataset = pd.read_csv('db/acoes1.csv')\n",
    "dataset\n"
   ]
  },
  {
   "cell_type": "code",
   "execution_count": null,
   "metadata": {},
   "outputs": [],
   "source": [
    "dinheiro_total = 5000\n",
    "taxa_selic_2010 = 12.5\n",
    "taxa_selic_2011 = 9.25\n",
    "taxa_selic_2012 = 7.25\n",
    "taxa_selic_2013 = 7.75\n",
    "taxa_selic_2014 = 9.5\n",
    "taxa_selic_2015 = 14.25\n",
    "taxa_selic_2016 = 14.25\n",
    "taxa_selic_2017 = 14.25\n",
    "taxa_selic_2018 = 6.5\n",
    "taxa_selic_2019 = 5.25\n",
    "taxa_selic_2020 = 2.25\n",
    "taxa_selic_2021 = 7.75\n",
    "taxa_selic_2022 = 11.75\n",
    "taxa_selic_2023 = 12.5\n",
    "\n",
    "valor_2010 = dinheiro_total + (dinheiro_total * taxa_selic_2010 / 100)\n",
    "valor_2011 = valor_2010 + (dinheiro_total * taxa_selic_2011 / 100)\n",
    "valor_2012 = valor_2011 + (dinheiro_total * taxa_selic_2012 / 100)\n",
    "valor_2013 = valor_2012 + (dinheiro_total * taxa_selic_2013 / 100)\n",
    "valor_2014 = valor_2013 + (dinheiro_total * taxa_selic_2014 / 100)\n",
    "valor_2015 = valor_2014 + (dinheiro_total * taxa_selic_2015 / 100)\n",
    "valor_2016 = valor_2015 + (dinheiro_total * taxa_selic_2016 / 100)\n",
    "valor_2017 = valor_2016 + (dinheiro_total * taxa_selic_2017 / 100)\n",
    "valor_2018 = valor_2017 + (dinheiro_total * taxa_selic_2018 / 100)\n",
    "valor_2019 = valor_2018 + (dinheiro_total * taxa_selic_2019 / 100)\n",
    "valor_2020 = valor_2019 + (dinheiro_total * taxa_selic_2020 / 100)\n",
    "valor_2021 = valor_2020 + (dinheiro_total * taxa_selic_2021 / 100)\n",
    "valor_2022 = valor_2021 + (dinheiro_total * taxa_selic_2022 / 100)\n",
    "valor_2023 = valor_2022 + (dinheiro_total * taxa_selic_2023 / 100)\n",
    "valor_2023\n",
    "taxa_selic_historico = np.array([taxa_selic_2010, taxa_selic_2011, taxa_selic_2012, taxa_selic_2013, taxa_selic_2014, taxa_selic_2015, taxa_selic_2016, taxa_selic_2017, taxa_selic_2018, taxa_selic_2019, taxa_selic_2020, taxa_selic_2021, taxa_selic_2022, taxa_selic_2023])\n",
    "dataset_original = dataset.copy()\n",
    "dinheiro_total = 5000\n",
    "sem_risco = taxa_selic_historico.mean() / 100\n",
    "\n",
    "\n",
    "# (dataset['taxa de retorno'].mean() - taxa_selic_historico.mean()/100)/ dataset['taxa de retorno'].std() * math.sqrt(246) #sharp ratio validando historico da selic\n"
   ]
  },
  {
   "cell_type": "code",
   "execution_count": null,
   "metadata": {},
   "outputs": [],
   "source": [
    "def fitness_function(solucao):\n",
    "  dataset = dataset_original.copy()\n",
    "  pesos = solucao / solucao.sum()\n",
    "\n",
    "  for i in dataset.columns[1:]:\n",
    "    dataset[i] = (dataset[i] / dataset[i][0])\n",
    "\n",
    "  for i, acao in enumerate(dataset.columns[1:]):\n",
    "    dataset[acao] = dataset[acao] * pesos[i] * dinheiro_total\n",
    "\n",
    "  dataset.drop(labels = ['Date'], axis = 1, inplace=True)\n",
    "  dataset['soma valor'] = dataset.sum(axis = 1)\n",
    "  dataset['taxa retorno'] = 0.0\n",
    "\n",
    "  for i in range(1, len(dataset)):\n",
    "    dataset['taxa retorno'][i] = ((dataset['soma valor'][i] / dataset['soma valor'][i - 1]) - 1) * 100\n",
    "\n",
    "  sharpe_ratio = ((dataset['taxa retorno'].mean() - sem_risco) / dataset['taxa retorno'].std()) * np.sqrt(246)\n",
    "\n",
    "  return sharpe_ratio"
   ]
  },
  {
   "cell_type": "code",
   "execution_count": null,
   "metadata": {},
   "outputs": [],
   "source": [
    "def alocacao_ativos(dataset, dinheiro_total, seed = 0, melhores_pesos = []):\n",
    "    if seed != 0:\n",
    "        np.random.seed(seed)\n",
    "\n",
    "    dataset = dataset.copy()\n",
    "\n",
    "    if len(melhores_pesos) > 0:\n",
    "        pesos = melhores_pesos\n",
    "    else:  \n",
    "        pesos = np.random.random(len(dataset.columns) - 1)\n",
    "    #print(pesos, pesos.sum())\n",
    "        pesos = pesos / pesos.sum()\n",
    "    #print(pesos, pesos.sum())\n",
    "    \n",
    " \n",
    "    colunas = dataset.columns[1:]\n",
    "\n",
    "    for i in colunas:\n",
    "        dataset[i] = dataset[i] / dataset[i][0]\n",
    "\n",
    "    for i, acao in enumerate(dataset.columns[1:]):\n",
    "        dataset[acao] = dataset[acao] * pesos[i] * dinheiro_total\n",
    "\n",
    "    dataset['SOMA VALOR'] = dataset[colunas].sum(axis=1)\n",
    "\n",
    "    datas = dataset['Date']\n",
    "\n",
    "    dataset.drop(columns=['Date'], inplace=True)\n",
    "    dataset['taxa de retorno'] = 0.0\n",
    "\n",
    "    for i in range(1, len(dataset)):\n",
    "        dataset['taxa de retorno'][i] = ((dataset['SOMA VALOR'][i] / dataset['SOMA VALOR'][i-1]) - 1 )*100\n",
    "\n",
    "    acoes_pesos = pd.DataFrame(data= {'Ações': colunas, 'Pesos': pesos*100})\n",
    "\n",
    "    return dataset, datas, acoes_pesos , dataset.loc[len(dataset)-1]['SOMA VALOR']"
   ]
  },
  {
   "cell_type": "code",
   "execution_count": null,
   "metadata": {},
   "outputs": [],
   "source": [
    "np.random.seed(10)\n",
    "pesos = np.random.random(len(dataset_original.columns) - 1)\n",
    "pesos = pesos / pesos.sum()\n",
    "pesos"
   ]
  },
  {
   "cell_type": "code",
   "execution_count": null,
   "metadata": {},
   "outputs": [],
   "source": [
    "def visualiza_alocacao(solucao):\n",
    "  colunas = dataset_original.columns[1:]\n",
    "  for i in range(len(solucao)):\n",
    "    print(colunas[i], solucao[i] * 100)\n",
    "visualiza_alocacao(pesos)    "
   ]
  },
  {
   "cell_type": "code",
   "execution_count": null,
   "metadata": {},
   "outputs": [],
   "source": [
    "fitness = mlrose.CustomFitness(fitness_function)"
   ]
  },
  {
   "cell_type": "code",
   "execution_count": null,
   "metadata": {},
   "outputs": [],
   "source": [
    "problema_maximizacao = mlrose.ContinuousOpt(length=23, fitness_fn=fitness,\n",
    "                                            maximize = True, min_val = 0.1, max_val = 1)"
   ]
  },
  {
   "cell_type": "code",
   "execution_count": null,
   "metadata": {},
   "outputs": [],
   "source": [
    "problema_minimizacao = mlrose.ContinuousOpt(length=23, fitness_fn=fitness,\n",
    "                                            maximize = False, min_val = 0, max_val = 1)"
   ]
  },
  {
   "cell_type": "code",
   "execution_count": null,
   "metadata": {},
   "outputs": [],
   "source": [
    "melhor_solucao, melhor_custo = mlrose.hill_climb(problema_maximizacao, random_state = 1) ## hill climb\n",
    "melhor_solucao, melhor_custo"
   ]
  },
  {
   "cell_type": "code",
   "execution_count": null,
   "metadata": {},
   "outputs": [],
   "source": [
    "melhor_solucao = melhor_solucao / melhor_solucao.sum()\n",
    "melhor_solucao, melhor_solucao.sum()"
   ]
  },
  {
   "cell_type": "code",
   "execution_count": null,
   "metadata": {},
   "outputs": [],
   "source": [
    "visualiza_alocacao(melhor_solucao)"
   ]
  },
  {
   "cell_type": "code",
   "execution_count": null,
   "metadata": {},
   "outputs": [],
   "source": [
    "_, _, _, soma_valor = alocacao_ativos(pd.read_csv('db/acoes1.csv'), 5000, melhores_pesos=melhor_solucao)\n",
    "soma_valor"
   ]
  },
  {
   "cell_type": "code",
   "execution_count": null,
   "metadata": {},
   "outputs": [],
   "source": [
    "## Simulated annealing\n",
    "melhor_solucao, melhor_custo = mlrose.simulated_annealing(problema_maximizacao, random_state = 1) \n",
    "melhor_solucao = melhor_solucao / melhor_solucao.sum()\n",
    "melhor_solucao, melhor_custo"
   ]
  },
  {
   "cell_type": "code",
   "execution_count": null,
   "metadata": {},
   "outputs": [],
   "source": [
    "visualiza_alocacao(melhor_solucao)"
   ]
  },
  {
   "cell_type": "code",
   "execution_count": null,
   "metadata": {},
   "outputs": [],
   "source": [
    "_, _, _, soma_valor = alocacao_ativos(pd.read_csv('db/acoes1.csv'), 5000, melhores_pesos=melhor_solucao)\n",
    "soma_valor"
   ]
  },
  {
   "cell_type": "code",
   "execution_count": 37,
   "metadata": {},
   "outputs": [],
   "source": [
    "#algoritmo genético \n",
    "problema_maximizacao_ag = mlrose.ContinuousOpt(length = 23, fitness_fn = fitness, \n",
    "                                               maximize = True, min_val = 0, max_val = 1)\n",
    "melhor_solucao, melhor_custo = mlrose.genetic_alg(problema_maximizacao_ag, random_state = 1, pop_size=200, mutation_prob= 0.05, max_attempts = 10)\n",
    "melhor_solucao = melhor_solucao / melhor_solucao.sum()\n",
    "melhor_solucao, melhor_custo\n"
   ]
  },
  {
   "cell_type": "code",
   "execution_count": null,
   "metadata": {},
   "outputs": [],
   "source": [
    "visualiza_alocacao(melhor_solucao)"
   ]
  },
  {
   "cell_type": "code",
   "execution_count": null,
   "metadata": {},
   "outputs": [],
   "source": [
    "_, _, _, soma_valor = alocacao_ativos(pd.read_csv('db/acoes1.csv'), 5000, melhores_pesos=melhor_solucao)\n",
    "soma_valor"
   ]
  }
 ],
 "metadata": {
  "kernelspec": {
   "display_name": "Python 3 (ipykernel)",
   "language": "python",
   "name": "python3"
  }
 },
 "nbformat": 4,
 "nbformat_minor": 2
}
