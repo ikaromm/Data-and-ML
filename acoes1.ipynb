{
 "cells": [
  {
   "cell_type": "code",
   "execution_count": 2,
   "metadata": {},
   "outputs": [],
   "source": [
    "import pandas as pd\n",
    "import numpy as np\n",
    "from pandas_datareader import data\n",
    "import matplotlib.pyplot as plt\n",
    "import seaborn as sns\n",
    "import plotly.express as px\n",
    "\n",
    "\n",
    "import yfinance as yf\n",
    "yf.pdr_override()\n"
   ]
  },
  {
   "cell_type": "code",
   "execution_count": 14,
   "metadata": {},
   "outputs": [
    {
     "name": "stdout",
     "output_type": "stream",
     "text": [
      "[*********************100%%**********************]  1 of 1 completed\n",
      "[*********************100%%**********************]  1 of 1 completed\n",
      "[*********************100%%**********************]  1 of 1 completed\n",
      "[*********************100%%**********************]  1 of 1 completed\n",
      "[*********************100%%**********************]  1 of 1 completed\n",
      "[*********************100%%**********************]  1 of 1 completed\n",
      "[*********************100%%**********************]  1 of 1 completed\n",
      "[*********************100%%**********************]  1 of 1 completed\n",
      "[*********************100%%**********************]  1 of 1 completed\n",
      "[*********************100%%**********************]  1 of 1 completed\n",
      "[*********************100%%**********************]  1 of 1 completed\n",
      "[*********************100%%**********************]  1 of 1 completed\n",
      "[*********************100%%**********************]  1 of 1 completed\n",
      "[*********************100%%**********************]  1 of 1 completed\n",
      "[*********************100%%**********************]  1 of 1 completed\n",
      "[*********************100%%**********************]  1 of 1 completed\n",
      "[*********************100%%**********************]  1 of 1 completed\n",
      "[*********************100%%**********************]  1 of 1 completed\n",
      "[*********************100%%**********************]  1 of 1 completed\n",
      "[*********************100%%**********************]  1 of 1 completed\n",
      "[*********************100%%**********************]  1 of 1 completed\n",
      "[*********************100%%**********************]  1 of 1 completed\n",
      "[*********************100%%**********************]  1 of 1 completed\n"
     ]
    },
    {
     "data": {
      "text/plain": [
       "Date\n",
       "2012-02-01    36.290001\n",
       "2012-02-02    36.349998\n",
       "2012-02-03    36.410000\n",
       "2012-02-06    36.290001\n",
       "2012-02-07    36.299999\n",
       "                ...    \n",
       "2023-10-17    63.000000\n",
       "2023-10-18    63.000000\n",
       "2023-10-19    62.119999\n",
       "2023-10-20    61.259998\n",
       "2023-10-23    62.029999\n",
       "Name: CLSC4.SA, Length: 2911, dtype: float64"
      ]
     },
     "execution_count": 14,
     "metadata": {},
     "output_type": "execute_result"
    }
   ],
   "source": [
    "acoes = [\n",
    "  \n",
    "    \"VALE3.SA\",\n",
    "    #\"RECV3.SA\",\n",
    "    \"KEPL3.SA\",\n",
    "    #\"CURY3.SA\",\n",
    "    \"VULC3.SA\",\n",
    "    \"LEVE3.SA\",\n",
    "    \"GGBR4.SA\",\n",
    "    \"LREN3.SA\",\n",
    "    \"ALSO3.SA\",\n",
    "    \"DIRR3.SA\",\n",
    "    \"MILS3.SA\",\n",
    "    \"RANI3.SA\",\n",
    "    \"CAMB3.SA\",\n",
    "    \"CSUD3.SA\",\n",
    "    \"CLSC4.SA\",\n",
    "    \"CMIG4.SA\",\n",
    "    \"ITSA4.SA\",\n",
    "    \"BBAS3.SA\",\n",
    "    \"TASA4.SA\",\n",
    "    \"SLCE3.SA\",\n",
    "    \"B3SA3.SA\",\n",
    "    \"PETR4.SA\",\n",
    "    \"SUZB3.SA\",\n",
    "    \"KLBN4.SA\",\n",
    "    \"BOVA11.SA\"\n",
    "\n",
    "        \n",
    "]  \n",
    "\n",
    "\n",
    "acoes_df1 = pd.DataFrame()\n",
    "for acao in acoes:\n",
    "    acoes_df1[acao] = data.get_data_yahoo(acao, start='2012-02-01')['Close']\n",
    "acoes_df1.to_csv('db/acoes1.csv')  \n",
    "acoes_df1['CLSC4.SA']"
   ]
  },
  {
   "cell_type": "code",
   "execution_count": 11,
   "metadata": {},
   "outputs": [
    {
     "data": {
      "text/plain": [
       "Date\n",
       "2012-01-02          NaN\n",
       "2012-01-03          NaN\n",
       "2012-01-04          NaN\n",
       "2012-01-05          NaN\n",
       "2012-01-06          NaN\n",
       "                ...    \n",
       "2023-10-17    63.000000\n",
       "2023-10-18    63.000000\n",
       "2023-10-19    62.119999\n",
       "2023-10-20    61.259998\n",
       "2023-10-23    62.029999\n",
       "Name: CLSC4.SA, Length: 2932, dtype: float64"
      ]
     },
     "execution_count": 11,
     "metadata": {},
     "output_type": "execute_result"
    }
   ],
   "source": [
    "acoes_df1['CLSC4.SA']"
   ]
  }
 ],
 "metadata": {
  "kernelspec": {
   "display_name": "Python 3 (ipykernel)",
   "language": "python",
   "name": "python3"
  },
  "language_info": {
   "codemirror_mode": {
    "name": "ipython",
    "version": 3
   },
   "file_extension": ".py",
   "mimetype": "text/x-python",
   "name": "python",
   "nbconvert_exporter": "python",
   "pygments_lexer": "ipython3",
   "version": "3.11.5"
  }
 },
 "nbformat": 4,
 "nbformat_minor": 2
}
